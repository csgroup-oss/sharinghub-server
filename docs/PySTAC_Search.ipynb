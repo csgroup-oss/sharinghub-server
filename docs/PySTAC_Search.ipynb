{
 "cells": [
  {
   "cell_type": "markdown",
   "id": "8368f3d1-e566-4b01-81c1-23716acd3040",
   "metadata": {},
   "source": [
    "# PySTAC Search"
   ]
  },
  {
   "cell_type": "markdown",
   "id": "fe34e929-1b7c-443a-925a-b78822b00404",
   "metadata": {},
   "source": [
    "Configure the URL:"
   ]
  },
  {
   "cell_type": "code",
   "execution_count": 1,
   "id": "79eb72cc-ea2e-4099-95aa-26ac6beb7bc1",
   "metadata": {
    "tags": []
   },
   "outputs": [],
   "source": [
    "url = \"https://sharinghub.p2.csgroup.space/gitlab.si.c-s.fr/stac/\""
   ]
  },
  {
   "cell_type": "markdown",
   "id": "929db9e3-c5a8-40ad-9b49-b61ff4e8222c",
   "metadata": {},
   "source": [
    "We will need to authenticate first, use a GitLab access token with at least read_api permission:"
   ]
  },
  {
   "cell_type": "code",
   "execution_count": 2,
   "id": "a8de235b-ce9a-4df1-977d-e1bd831259f6",
   "metadata": {
    "tags": []
   },
   "outputs": [],
   "source": [
    "token = \"<token>\"  # fill with your own"
   ]
  },
  {
   "cell_type": "markdown",
   "id": "7933b34c-ea05-4438-a364-e706d77f6cd5",
   "metadata": {},
   "source": [
    "Now, we create the pystac client:"
   ]
  },
  {
   "cell_type": "code",
   "execution_count": 3,
   "id": "80d5fdbf-7c40-42c5-b329-f7db273574ee",
   "metadata": {
    "tags": []
   },
   "outputs": [],
   "source": [
    "from pystac_client import Client\n",
    "\n",
    "client = Client.open(url=url, headers={\"X-Gitlab-Token\": token})"
   ]
  },
  {
   "cell_type": "markdown",
   "id": "8427d845-af1c-48d1-86f8-986c9bd86248",
   "metadata": {},
   "source": [
    "You are now ready to use the pystac client search!\n",
    "\n",
    "Here's an example to retrieve all \"ai-model\" projects:"
   ]
  },
  {
   "cell_type": "code",
   "execution_count": 4,
   "id": "eb87848d-4441-4a46-86ac-0340f8b583f4",
   "metadata": {
    "tags": []
   },
   "outputs": [],
   "source": [
    "s = client.search(method=\"GET\", collections=[\"ai-model\"])\n",
    "items = list(s.items())"
   ]
  },
  {
   "cell_type": "markdown",
   "id": "5dfbdad7-98c3-48dd-997b-7ecfe2625be9",
   "metadata": {},
   "source": [
    "Items content:"
   ]
  },
  {
   "cell_type": "code",
   "execution_count": 5,
   "id": "c0b3c671-ef05-4af2-a4ba-25d5e7e501cf",
   "metadata": {
    "tags": []
   },
   "outputs": [
    {
     "data": {
      "text/plain": [
       "[<Item id=gitlab-cs-ai-model-456>,\n",
       " <Item id=gitlab-cs-ai-model-512>,\n",
       " <Item id=gitlab-cs-ai-model-589>]"
      ]
     },
     "execution_count": 5,
     "metadata": {},
     "output_type": "execute_result"
    }
   ],
   "source": [
    "items"
   ]
  }
 ],
 "metadata": {
  "kernelspec": {
   "display_name": "Python 3 (ipykernel)",
   "language": "python",
   "name": "python3"
  },
  "language_info": {
   "codemirror_mode": {
    "name": "ipython",
    "version": 3
   },
   "file_extension": ".py",
   "mimetype": "text/x-python",
   "name": "python",
   "nbconvert_exporter": "python",
   "pygments_lexer": "ipython3",
   "version": "3.8.10"
  }
 },
 "nbformat": 4,
 "nbformat_minor": 5
}
