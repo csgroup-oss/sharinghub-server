{
 "cells": [
  {
   "cell_type": "markdown",
   "id": "8368f3d1-e566-4b01-81c1-23716acd3040",
   "metadata": {},
   "source": [
    "# PySTAC Search"
   ]
  },
  {
   "cell_type": "markdown",
   "id": "fe34e929-1b7c-443a-925a-b78822b00404",
   "metadata": {},
   "source": [
    "Configure the URL:"
   ]
  },
  {
   "cell_type": "code",
   "execution_count": null,
   "id": "79eb72cc-ea2e-4099-95aa-26ac6beb7bc1",
   "metadata": {
    "tags": []
   },
   "outputs": [],
   "source": [
    "url = \"https://sharinghub.p2.csgroup.space/stac/\""
   ]
  },
  {
   "cell_type": "markdown",
   "id": "7933b34c-ea05-4438-a364-e706d77f6cd5",
   "metadata": {},
   "source": [
    "Now, we create the pystac client:"
   ]
  },
  {
   "cell_type": "code",
   "execution_count": null,
   "id": "80d5fdbf-7c40-42c5-b329-f7db273574ee",
   "metadata": {
    "tags": []
   },
   "outputs": [],
   "source": [
    "from pystac_client import Client\n",
    "\n",
    "client = Client.open(url=url)"
   ]
  },
  {
   "cell_type": "markdown",
   "id": "8427d845-af1c-48d1-86f8-986c9bd86248",
   "metadata": {},
   "source": [
    "You are now ready to use the pystac client search!\n",
    "\n",
    "Here's an example to retrieve all \"ai-model\" projects:"
   ]
  },
  {
   "cell_type": "code",
   "execution_count": null,
   "id": "eb87848d-4441-4a46-86ac-0340f8b583f4",
   "metadata": {
    "tags": []
   },
   "outputs": [],
   "source": [
    "s = client.search(collections=[\"ai-model\"])\n",
    "items = list(s.items())"
   ]
  },
  {
   "cell_type": "markdown",
   "id": "5dfbdad7-98c3-48dd-997b-7ecfe2625be9",
   "metadata": {},
   "source": [
    "Items content:"
   ]
  },
  {
   "cell_type": "code",
   "execution_count": null,
   "id": "c0b3c671-ef05-4af2-a4ba-25d5e7e501cf",
   "metadata": {
    "tags": []
   },
   "outputs": [],
   "source": [
    "items"
   ]
  }
 ],
 "metadata": {
  "kernelspec": {
   "display_name": "Python 3 (ipykernel)",
   "language": "python",
   "name": "python3"
  },
  "language_info": {
   "codemirror_mode": {
    "name": "ipython",
    "version": 3
   },
   "file_extension": ".py",
   "mimetype": "text/x-python",
   "name": "python",
   "nbconvert_exporter": "python",
   "pygments_lexer": "ipython3",
   "version": "3.11.7"
  }
 },
 "nbformat": 4,
 "nbformat_minor": 5
}
